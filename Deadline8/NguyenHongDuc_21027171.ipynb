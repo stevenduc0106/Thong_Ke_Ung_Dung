{
 "cells": [
  {
   "cell_type": "code",
   "execution_count": 7,
   "id": "27384ed3",
   "metadata": {},
   "outputs": [
    {
     "name": "stdout",
     "output_type": "stream",
     "text": [
      "A) Khoảng tin cậy 95% cho sự khác biệt trong tỷ lệ: (-0.08315422946098068, 0.08315422946098068)\n",
      "B) Khoảng tin cậy 95% cho sự khác biệt trong tỷ lệ: (0.940448141542087, 0.9595518584579127)\n"
     ]
    }
   ],
   "source": [
    "# Bài 1:\n",
    "# Những sự ảnh hưởng theo độ tuổi không chỉ xảy ra ở điều mà bạn xem thấy trên tivi mà còn ở nơi mà bạn xem tivi. \n",
    "# Một nghiên cứu (Darnay, 1994, trang 784) đã cho thấy rằng những người Mỹ lớn tuổi hơn thì ít xem tivi trên giường \n",
    "# ngủ hơn so với những người trẻ tuổi và thường xem tivi tại phòng ăn nhiều hơn. Với dữ liệu đã cho trong bảng, \n",
    "# giả định rằng cỡ mẫu cho từng nhóm tuổi là 100.\n",
    "\n",
    "# a) Tìm ước lượng khoảng tin cậy 95% về sự khác biệt trong các tỷ lệ của người Mỹ trong độ tuổi từ 45 đến 69 \n",
    "# và những người từ 60 tuổi trở lên mà xem tivi tại phòng ăn.\n",
    "# b) Ước lượng sự khác biệt giữa các tỷ lệ của người Mỹ trong nhóm tuổi từ 25 đến 59 và những người trong nhóm \n",
    "# độ tuổi từ 60 trở lên mà xem tivi tại phòng khách, phòng sinh hoạt chung hay phòng riêng làm việc và tìm biên \n",
    "# sai số ước lượng. [Gợi ý:Tỷ lệ cho nhóm tuổi từ 25 đến 59 sẽ là bình quân giản đơn của các tỷ lệ riêng lẻ dựa \n",
    "# trên cỡ mẫu là 2000]\n",
    "\n",
    "\n",
    "import math\n",
    "from scipy.stats import norm\n",
    "\n",
    "def khoangTinCayTiLe(p1, n1, p2, n2):\n",
    "    # Tính độ lệch chuẩn ước tính (SE)\n",
    "    SE = math.sqrt((p1 * (1 - p1) / n1) + (p2 * (1 - p2) / n2))\n",
    "    \n",
    "    # Tính giá trị Z-score cho mức độ tin cậy 95%\n",
    "    Z = norm.ppf(0.975)  # 0.975 là vì 0.95 / 2 để tính mức độ tin cậy 95%\n",
    "    \n",
    "    # Tính khoảng tin cậy\n",
    "    saiSoBien = Z * SE\n",
    "    bienDuoi = (p1 - p2) - saiSoBien\n",
    "    bienTren = (p1 - p2) + saiSoBien\n",
    "    \n",
    "    return (bienDuoi, bienTren)\n",
    "\n",
    "# Sử dụng hàm để tính khoảng tin cậy cho ví dụ cụ thể\n",
    "p1 = 0.10  # Tỷ lệ của người từ 45 đến 69 xem tivi tại phòng ăn\n",
    "n1 = 100   # Kích thước mẫu của nhóm 1\n",
    "p2 = 0.10  # Tỷ lệ của người từ 60 trở lên xem tivi tại phòng ăn\n",
    "n2 = 100   # Kích thước mẫu của nhóm 2\n",
    "\n",
    "khoangTinCay = khoangTinCayTiLe(p1, n1, p2, n2)\n",
    "print(f\"A) Khoảng tin cậy 95% cho sự khác biệt trong tỷ lệ: {khoangTinCay}\")\n",
    "\n",
    "import math\n",
    "\n",
    "# Tỷ lệ tại các nơi khác nhau\n",
    "tyLe = [0.95, 0.95, 0.95]\n",
    "\n",
    "# Kích thước mẫu cho mỗi tỷ lệ\n",
    "kichThuocMau = 2000\n",
    "\n",
    "# Tính tỷ lệ trung bình\n",
    "tyLeTrungBinh = sum(tyLe) / len(tyLe)\n",
    "\n",
    "# Tính độ lệch chuẩn ước tính (SE)\n",
    "SE = math.sqrt(tyLeTrungBinh * (1 - tyLeTrungBinh) * (1 / kichThuocMau))\n",
    "\n",
    "# Giá trị Z-score cho mức độ tin cậy 95%\n",
    "Z = 1.96\n",
    "\n",
    "# Tính biên sai số ước lượng\n",
    "bienSaiSoUocLuong = Z * SE\n",
    "\n",
    "# Tính khoảng tin cậy 95%\n",
    "khoangTinCay = (tyLeTrungBinh - bienSaiSoUocLuong, tyLeTrungBinh + bienSaiSoUocLuong)\n",
    "\n",
    "print(f\"B) Khoảng tin cậy 95% cho sự khác biệt trong tỷ lệ: {khoangTinCay}\")\n"
   ]
  },
  {
   "cell_type": "code",
   "execution_count": 13,
   "id": "8296ccbb",
   "metadata": {},
   "outputs": [
    {
     "name": "stdout",
     "output_type": "stream",
     "text": [
      "Kích thước mẫu cần thiết: 90\n"
     ]
    }
   ],
   "source": [
    "# Bài 2:\n",
    "# Một cuộc điều tra 100 đại lý mua hàng tạo ra một ước lượng về tỷ lệ những người bán buôn ống nước polyvinyl \n",
    "# mà có kế hoạch gia tăng sự mua hàng của mình trong năm tới. Biên sai số, 0.096, là tương đối lớn. \n",
    "# Giả định rằng tổ chức tiếp thị tiến hành cuộc điều tra này được yêu cầu phải thực hiện một cuộc điều tra mới và \n",
    "# đạt được một ước lượng chính xác trong giới hạn 0.04 với xác suất bằng với 0.90. Xấp xỉ có bao nhiêu nhà bán buôn \n",
    "# ắt đã phải tính đến trong cuộc điều tra này?\n",
    "import math\n",
    "\n",
    "# Biên sai số ban đầu\n",
    "biensaiSobandau = 0.096\n",
    "\n",
    "# Biên sai số mới\n",
    "biensaiSomoi = 0.04\n",
    "\n",
    "# Giá trị Z-score cho xác suất 0.90\n",
    "Z = 1.2816\n",
    "\n",
    "# Tính kích thước mẫu cần thiết\n",
    "kichthuocMauCanThiet = math.ceil((Z**2 * biensaiSobandau * (1 - biensaiSobandau)) / (biensaiSomoi**2))\n",
    "\n",
    "print(f\"Kích thước mẫu cần thiết: {kichthuocMauCanThiet}\")\n"
   ]
  },
  {
   "cell_type": "code",
   "execution_count": 14,
   "id": "f0f541b8",
   "metadata": {},
   "outputs": [
    {
     "name": "stdout",
     "output_type": "stream",
     "text": [
      "Kích thước mẫu cần thiết là ít nhất 174 công nhân cho mỗi nhóm huấn luyện.\n"
     ]
    }
   ],
   "source": [
    "# Bài 3:\n",
    "# Một giám đốc nhân sự mong muốn so sánh tính hiệu quả của hai phương pháp huấn luyện các nhân viên công nghiệp \n",
    "# nhằm thực hiện một hoạt động lắp ráp nào đó. Một số lượng nhân viên được chia thành hai nhóm bằng nhau, \n",
    "# n hóm thứ nhất nhận được phương pháp huấn luyện 1 và nhóm thứ hai được huấn luyện bằng phương pháp 2. \n",
    "# Mỗi nhóm sẽ thực hiện hoạt động lắp ráp này, và độ dài của thời gian lắp ráp sẽ được ghi nhận. \n",
    "# Người ta kỳ vọng rằng các đại lượng cho cả hai nhóm sẽ có một khoảng xấp xỉ 8 phút. \n",
    "# Để cho ước lượng về sự khác biệt về thời gian trung bình để lắp ráp chính xác trong giới hạn 1 phút với \n",
    "# xác suất bằng với 0.95, thì cần phải đưa bao nhiêu công nhân vào mỗi nhóm huấn luyện?\n",
    "import math\n",
    "\n",
    "# Giá trị Z-score cho xác suất 0.95\n",
    "Z = 1.645\n",
    "\n",
    "# Độ lệch chuẩn của thời gian lắp ráp (8 phút)\n",
    "sigma = 8\n",
    "\n",
    "# Biên sai số (1 phút)\n",
    "E = 1\n",
    "\n",
    "# Tính kích thước mẫu cần thiết\n",
    "n = ((Z ** 2) * (sigma ** 2)) / (E ** 2)\n",
    "n = math.ceil(n)  # Làm tròn lên đến số nguyên gần nhất\n",
    "\n",
    "print(f\"Kích thước mẫu cần thiết là ít nhất {n} công nhân cho mỗi nhóm huấn luyện.\")\n"
   ]
  },
  {
   "cell_type": "code",
   "execution_count": 20,
   "id": "8a10db34",
   "metadata": {},
   "outputs": [
    {
     "name": "stdout",
     "output_type": "stream",
     "text": [
      "Kích thước mẫu cần thiết là 56\n"
     ]
    }
   ],
   "source": [
    "# Bài 4:\n",
    "# Một công ty kiểm toán mong muốn ước lượng sai số trung bình mỗi tài khoản trong các khoản phải thu cho một công \n",
    "# ty cung cấp hệ thống ống nước chính xác trong giới hạn $20 với xác suất bằng 0.99. Một mẫu nhỏ trước đó gợi ý \n",
    "# rằng sai số mỗi tài khoản sở hữu một độ lệch chuẩn xấp xỉ bằng với $58. Nếu công ty kiểm toán đó mong muốn ước \n",
    "# lượng sai số trung bình mỗi tài khoản chính xác trong giới hạn $20, thì có bao nhiêu tài khoản ắt sẽ phải được \n",
    "# chọn mẫu? Mẫu này phải sở hữu (các) thuộc tính nào?\n",
    "import math\n",
    "\n",
    "# Độ lệch chuẩn của mẫu gợi ý\n",
    "sigma = 58\n",
    "\n",
    "# Giới hạn sai số mong muốn\n",
    "E = 20\n",
    "\n",
    "# Xác suất tương ứng với Z = 2.576 (xác suất 0.99)\n",
    "Z = 2.576\n",
    "\n",
    "# Tính kích thước mẫu cần thiết\n",
    "n = math.ceil((Z * sigma / E)**2)\n",
    "\n",
    "print(f\"Kích thước mẫu cần thiết là {n}\")\n",
    "#Mẫu này phải sở hữu (các) thuộc tính nào?\n",
    "# Số tài khoản kiểm toán: Đây là kích thước của mẫu, tức là số lượng tài khoản mà bạn chọn ngẫu nhiên để kiểm tra sai số.\n",
    "\n",
    "# Sai số của từng tài khoản: Bạn cần ghi nhận sai số của từng tài khoản trong mẫu kiểm toán. \n",
    "# Điều này là quan trọng để tính toán sai số trung bình và đảm bảo tính chính xác của ước lượng.\n",
    "\n"
   ]
  },
  {
   "cell_type": "code",
   "execution_count": 2,
   "id": "482a4d17",
   "metadata": {},
   "outputs": [
    {
     "name": "stdout",
     "output_type": "stream",
     "text": [
      "Z-score cho mức tin cậy 95%: 1.6448536269514722\n"
     ]
    }
   ],
   "source": [
    "from scipy.stats import norm\n",
    "\n",
    "# Mức tin cậy 95%\n",
    "confidence_level = 0.95\n",
    "\n",
    "# Tính z-score cho mức tin cậy 95%\n",
    "z_score = norm.ppf(confidence_level)\n",
    "\n",
    "print(\"Z-score cho mức tin cậy 95%:\", z_score)\n"
   ]
  },
  {
   "cell_type": "code",
   "execution_count": null,
   "id": "67072337",
   "metadata": {},
   "outputs": [],
   "source": []
  }
 ],
 "metadata": {
  "kernelspec": {
   "display_name": "Python 3 (ipykernel)",
   "language": "python",
   "name": "python3"
  },
  "language_info": {
   "codemirror_mode": {
    "name": "ipython",
    "version": 3
   },
   "file_extension": ".py",
   "mimetype": "text/x-python",
   "name": "python",
   "nbconvert_exporter": "python",
   "pygments_lexer": "ipython3",
   "version": "3.10.9"
  }
 },
 "nbformat": 4,
 "nbformat_minor": 5
}
