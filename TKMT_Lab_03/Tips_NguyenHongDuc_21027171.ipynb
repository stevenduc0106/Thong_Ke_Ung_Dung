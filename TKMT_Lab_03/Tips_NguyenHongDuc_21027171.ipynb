{
 "cells": [
  {
   "cell_type": "code",
   "execution_count": 1,
   "id": "1c30139a",
   "metadata": {},
   "outputs": [
    {
     "data": {
      "text/html": [
       "<div>\n",
       "<style scoped>\n",
       "    .dataframe tbody tr th:only-of-type {\n",
       "        vertical-align: middle;\n",
       "    }\n",
       "\n",
       "    .dataframe tbody tr th {\n",
       "        vertical-align: top;\n",
       "    }\n",
       "\n",
       "    .dataframe thead th {\n",
       "        text-align: right;\n",
       "    }\n",
       "</style>\n",
       "<table border=\"1\" class=\"dataframe\">\n",
       "  <thead>\n",
       "    <tr style=\"text-align: right;\">\n",
       "      <th></th>\n",
       "      <th>Unnamed: 0</th>\n",
       "      <th>total_bill</th>\n",
       "      <th>tip</th>\n",
       "      <th>sex</th>\n",
       "      <th>smoker</th>\n",
       "      <th>day</th>\n",
       "      <th>time</th>\n",
       "      <th>size</th>\n",
       "    </tr>\n",
       "  </thead>\n",
       "  <tbody>\n",
       "    <tr>\n",
       "      <th>0</th>\n",
       "      <td>0</td>\n",
       "      <td>16.99</td>\n",
       "      <td>1.01</td>\n",
       "      <td>Female</td>\n",
       "      <td>No</td>\n",
       "      <td>Sun</td>\n",
       "      <td>Dinner</td>\n",
       "      <td>2</td>\n",
       "    </tr>\n",
       "    <tr>\n",
       "      <th>1</th>\n",
       "      <td>1</td>\n",
       "      <td>10.34</td>\n",
       "      <td>1.66</td>\n",
       "      <td>Male</td>\n",
       "      <td>No</td>\n",
       "      <td>Sun</td>\n",
       "      <td>Dinner</td>\n",
       "      <td>3</td>\n",
       "    </tr>\n",
       "    <tr>\n",
       "      <th>2</th>\n",
       "      <td>2</td>\n",
       "      <td>21.01</td>\n",
       "      <td>3.50</td>\n",
       "      <td>Male</td>\n",
       "      <td>No</td>\n",
       "      <td>Sun</td>\n",
       "      <td>Dinner</td>\n",
       "      <td>3</td>\n",
       "    </tr>\n",
       "    <tr>\n",
       "      <th>3</th>\n",
       "      <td>3</td>\n",
       "      <td>23.68</td>\n",
       "      <td>3.31</td>\n",
       "      <td>Male</td>\n",
       "      <td>No</td>\n",
       "      <td>Sun</td>\n",
       "      <td>Dinner</td>\n",
       "      <td>2</td>\n",
       "    </tr>\n",
       "    <tr>\n",
       "      <th>4</th>\n",
       "      <td>4</td>\n",
       "      <td>24.59</td>\n",
       "      <td>3.61</td>\n",
       "      <td>Female</td>\n",
       "      <td>No</td>\n",
       "      <td>Sun</td>\n",
       "      <td>Dinner</td>\n",
       "      <td>4</td>\n",
       "    </tr>\n",
       "  </tbody>\n",
       "</table>\n",
       "</div>"
      ],
      "text/plain": [
       "   Unnamed: 0  total_bill   tip     sex smoker  day    time  size\n",
       "0           0       16.99  1.01  Female     No  Sun  Dinner     2\n",
       "1           1       10.34  1.66    Male     No  Sun  Dinner     3\n",
       "2           2       21.01  3.50    Male     No  Sun  Dinner     3\n",
       "3           3       23.68  3.31    Male     No  Sun  Dinner     2\n",
       "4           4       24.59  3.61  Female     No  Sun  Dinner     4"
      ]
     },
     "execution_count": 1,
     "metadata": {},
     "output_type": "execute_result"
    }
   ],
   "source": [
    "import pandas as pd\n",
    "df = pd.read_csv(\"tips.csv\")\n",
    "df.head()"
   ]
  },
  {
   "cell_type": "code",
   "execution_count": 2,
   "id": "12f5c920",
   "metadata": {},
   "outputs": [],
   "source": [
    "#Xoá cột Unnamed: 0\n",
    "df.drop(columns=['Unnamed: 0'], axis=1, inplace=True)"
   ]
  },
  {
   "cell_type": "code",
   "execution_count": 3,
   "id": "317bd20b",
   "metadata": {},
   "outputs": [
    {
     "data": {
      "text/plain": [
       "(244, 7)"
      ]
     },
     "execution_count": 3,
     "metadata": {},
     "output_type": "execute_result"
    }
   ],
   "source": [
    "df.shape"
   ]
  },
  {
   "cell_type": "code",
   "execution_count": 4,
   "id": "2277c807",
   "metadata": {},
   "outputs": [
    {
     "name": "stdout",
     "output_type": "stream",
     "text": [
      "<class 'pandas.core.frame.DataFrame'>\n",
      "RangeIndex: 244 entries, 0 to 243\n",
      "Data columns (total 7 columns):\n",
      " #   Column      Non-Null Count  Dtype  \n",
      "---  ------      --------------  -----  \n",
      " 0   total_bill  244 non-null    float64\n",
      " 1   tip         244 non-null    float64\n",
      " 2   sex         244 non-null    object \n",
      " 3   smoker      244 non-null    object \n",
      " 4   day         244 non-null    object \n",
      " 5   time        244 non-null    object \n",
      " 6   size        244 non-null    int64  \n",
      "dtypes: float64(2), int64(1), object(4)\n",
      "memory usage: 13.5+ KB\n"
     ]
    },
    {
     "data": {
      "text/plain": [
       "size\n",
       "2    156\n",
       "3     38\n",
       "4     37\n",
       "5      5\n",
       "1      4\n",
       "6      4\n",
       "Name: count, dtype: int64"
      ]
     },
     "execution_count": 4,
     "metadata": {},
     "output_type": "execute_result"
    }
   ],
   "source": [
    "#Trong các thuộc tính, thuộc tính nào là thuộc tính phân loại, thuộc tính nào là thuộc tính định lượng\n",
    "df.info()\n",
    "# Kiểm tra số các giá trị phân biệt\n",
    "df.nunique()\n",
    "# Đếm các giá trị khác nhau của cột size\n",
    "df['size'].value_counts()"
   ]
  },
  {
   "cell_type": "code",
   "execution_count": 5,
   "id": "348215f5",
   "metadata": {},
   "outputs": [
    {
     "data": {
      "text/plain": [
       "sex\n",
       "Male      157\n",
       "Female     87\n",
       "Name: count, dtype: int64"
      ]
     },
     "execution_count": 5,
     "metadata": {},
     "output_type": "execute_result"
    }
   ],
   "source": [
    "#Có bao nhiêu nam, bao nhiêu nữ. Tỷ lệ bao nhiêu?\n",
    "df['sex'].value_counts()"
   ]
  },
  {
   "cell_type": "code",
   "execution_count": 6,
   "id": "9f963298",
   "metadata": {},
   "outputs": [
    {
     "data": {
      "text/plain": [
       "sex\n",
       "Male      64.344262\n",
       "Female    35.655738\n",
       "Name: count, dtype: float64"
      ]
     },
     "execution_count": 6,
     "metadata": {},
     "output_type": "execute_result"
    }
   ],
   "source": [
    "(df['sex'].value_counts() / df['sex'].count()) *100"
   ]
  },
  {
   "cell_type": "code",
   "execution_count": 7,
   "id": "cf8c0a86",
   "metadata": {},
   "outputs": [
    {
     "data": {
      "text/plain": [
       "sex\n",
       "False     87\n",
       "True     157\n",
       "Name: sex, dtype: int64"
      ]
     },
     "execution_count": 7,
     "metadata": {},
     "output_type": "execute_result"
    }
   ],
   "source": [
    "# Sử dụng group by của series\n",
    "df['sex'].groupby(df['sex']=='Male').count()"
   ]
  },
  {
   "cell_type": "code",
   "execution_count": 8,
   "id": "1f6b4b5e",
   "metadata": {},
   "outputs": [],
   "source": [
    "# Định nghĩa hàm\n",
    "def thong_ke_thuoc_tinh(data, att):\n",
    "    '''\n",
    "        data: a DataFrame\n",
    "        att: a string of an attribute of data\n",
    "    '''\n",
    "    print('Thống kê số lượng: ')\n",
    "    print(data[att].value_counts())\n",
    "    \n",
    "    print('\\n\\nTỷ lệ: ')\n",
    "    tyle = round((data[att].value_counts() / data[att].count()) * 100, 2)\n",
    "    print(tyle)"
   ]
  },
  {
   "cell_type": "code",
   "execution_count": 9,
   "id": "53c81b1f",
   "metadata": {},
   "outputs": [
    {
     "name": "stdout",
     "output_type": "stream",
     "text": [
      "Thống kê số lượng: \n",
      "smoker\n",
      "No     151\n",
      "Yes     93\n",
      "Name: count, dtype: int64\n",
      "\n",
      "\n",
      "Tỷ lệ: \n",
      "smoker\n",
      "No     61.89\n",
      "Yes    38.11\n",
      "Name: count, dtype: float64\n"
     ]
    }
   ],
   "source": [
    "#Có bao nhiêu người hút thuốc. Tỷ lệ bao nhiêu?\n",
    "thong_ke_thuoc_tinh(df, 'smoker')"
   ]
  },
  {
   "cell_type": "code",
   "execution_count": 10,
   "id": "d3e513bc",
   "metadata": {},
   "outputs": [
    {
     "data": {
      "text/plain": [
       "smoker\n",
       "False    151\n",
       "True      93\n",
       "Name: smoker, dtype: int64"
      ]
     },
     "execution_count": 10,
     "metadata": {},
     "output_type": "execute_result"
    }
   ],
   "source": [
    "# Sử dụng group by\n",
    "df['smoker'].groupby(df['smoker']=='Yes').count()"
   ]
  },
  {
   "cell_type": "code",
   "execution_count": 11,
   "id": "ca443a39",
   "metadata": {},
   "outputs": [
    {
     "data": {
      "text/plain": [
       "smoker\n",
       "False    61.885246\n",
       "True     38.114754\n",
       "Name: smoker, dtype: float64"
      ]
     },
     "execution_count": 11,
     "metadata": {},
     "output_type": "execute_result"
    }
   ],
   "source": [
    "(df['smoker'].groupby(df['smoker']=='Yes').count() / df['smoker'].count()) * 100 "
   ]
  },
  {
   "cell_type": "code",
   "execution_count": 12,
   "id": "01fd46f0",
   "metadata": {},
   "outputs": [
    {
     "name": "stdout",
     "output_type": "stream",
     "text": [
      "Thống kê số lượng: \n",
      "day\n",
      "Sat     87\n",
      "Sun     76\n",
      "Thur    62\n",
      "Fri     19\n",
      "Name: count, dtype: int64\n",
      "\n",
      "\n",
      "Tỷ lệ: \n",
      "day\n",
      "Sat     35.66\n",
      "Sun     31.15\n",
      "Thur    25.41\n",
      "Fri      7.79\n",
      "Name: count, dtype: float64\n"
     ]
    }
   ],
   "source": [
    "thong_ke_thuoc_tinh(df, 'day')"
   ]
  },
  {
   "cell_type": "code",
   "execution_count": 13,
   "id": "03ee68aa",
   "metadata": {},
   "outputs": [
    {
     "data": {
      "text/plain": [
       "'Thur'"
      ]
     },
     "execution_count": 13,
     "metadata": {},
     "output_type": "execute_result"
    }
   ],
   "source": [
    "df['day'].value_counts().sort_values(ascending=True).index[1]"
   ]
  },
  {
   "cell_type": "code",
   "execution_count": 14,
   "id": "e581bdd1",
   "metadata": {},
   "outputs": [
    {
     "data": {
      "text/plain": [
       "19"
      ]
     },
     "execution_count": 14,
     "metadata": {},
     "output_type": "execute_result"
    }
   ],
   "source": [
    "df['day'].value_counts().sort_values(ascending=True).values[0]"
   ]
  },
  {
   "cell_type": "code",
   "execution_count": 15,
   "id": "3b4ff470",
   "metadata": {},
   "outputs": [
    {
     "data": {
      "text/plain": [
       "day   size\n",
       "Fri   1        1\n",
       "      2       16\n",
       "      3        1\n",
       "      4        1\n",
       "Sat   1        2\n",
       "      2       53\n",
       "      3       18\n",
       "      4       13\n",
       "      5        1\n",
       "Sun   2       39\n",
       "      3       15\n",
       "      4       18\n",
       "      5        3\n",
       "      6        1\n",
       "Thur  1        1\n",
       "      2       48\n",
       "      3        4\n",
       "      4        5\n",
       "      5        1\n",
       "      6        3\n",
       "dtype: int64"
      ]
     },
     "execution_count": 15,
     "metadata": {},
     "output_type": "execute_result"
    }
   ],
   "source": [
    "a=df.groupby(['day','size']).size()\n",
    "a\n",
    "#a.index[0][0]"
   ]
  },
  {
   "cell_type": "code",
   "execution_count": 16,
   "id": "fd4ee02a",
   "metadata": {},
   "outputs": [
    {
     "data": {
      "text/plain": [
       "53"
      ]
     },
     "execution_count": 16,
     "metadata": {},
     "output_type": "execute_result"
    }
   ],
   "source": [
    "a.values[5]"
   ]
  },
  {
   "cell_type": "code",
   "execution_count": 17,
   "id": "f8094c87",
   "metadata": {},
   "outputs": [
    {
     "name": "stdout",
     "output_type": "stream",
     "text": [
      "1\n",
      "1\n",
      "2\n",
      "16\n",
      "3\n",
      "1\n",
      "4\n",
      "1\n",
      "40\n",
      "1\n",
      "2\n",
      "2\n",
      "53\n",
      "3\n",
      "18\n",
      "4\n",
      "13\n",
      "5\n",
      "1\n",
      "219\n",
      "2\n",
      "39\n",
      "3\n",
      "15\n",
      "4\n",
      "18\n",
      "5\n",
      "3\n",
      "6\n",
      "1\n",
      "216\n",
      "1\n",
      "1\n",
      "2\n",
      "48\n",
      "3\n",
      "4\n",
      "4\n",
      "5\n",
      "5\n",
      "1\n",
      "6\n",
      "3\n",
      "152\n"
     ]
    }
   ],
   "source": [
    "for date in a.index.unique(\"day\"):\n",
    "    b = a.loc[date]\n",
    "    tong = 0\n",
    "    for i in b.index:\n",
    "        print(i)\n",
    "        print(b[i])\n",
    "        tong = tong + i*b[i] \n",
    "    print (tong)"
   ]
  },
  {
   "cell_type": "code",
   "execution_count": 18,
   "id": "961bdb75",
   "metadata": {},
   "outputs": [
    {
     "name": "stdout",
     "output_type": "stream",
     "text": [
      "Thống kê số lượng: \n",
      "time\n",
      "Dinner    176\n",
      "Lunch      68\n",
      "Name: count, dtype: int64\n",
      "\n",
      "\n",
      "Tỷ lệ: \n",
      "time\n",
      "Dinner    72.13\n",
      "Lunch     27.87\n",
      "Name: count, dtype: float64\n"
     ]
    }
   ],
   "source": [
    "#Nhà hàng phục vụ bữa ăn nào nhiều nhất (Breakfast, Lunch, Dinner)?\n",
    "thong_ke_thuoc_tinh(df, 'time')"
   ]
  },
  {
   "cell_type": "code",
   "execution_count": 19,
   "id": "2b722b50",
   "metadata": {},
   "outputs": [
    {
     "name": "stdout",
     "output_type": "stream",
     "text": [
      "Thống kê số lượng: \n",
      "size\n",
      "2    156\n",
      "3     38\n",
      "4     37\n",
      "5      5\n",
      "1      4\n",
      "6      4\n",
      "Name: count, dtype: int64\n",
      "\n",
      "\n",
      "Tỷ lệ: \n",
      "size\n",
      "2    63.93\n",
      "3    15.57\n",
      "4    15.16\n",
      "5     2.05\n",
      "1     1.64\n",
      "6     1.64\n",
      "Name: count, dtype: float64\n"
     ]
    }
   ],
   "source": [
    "#Nhóm khách hàng dùng bữa tại nhà hàng nhiều nhất là bao nhiêu người?\n",
    "thong_ke_thuoc_tinh(df, 'size')"
   ]
  },
  {
   "cell_type": "code",
   "execution_count": 20,
   "id": "28845c4a",
   "metadata": {},
   "outputs": [
    {
     "name": "stdout",
     "output_type": "stream",
     "text": [
      "Số lượng khách trung bình nhà hàng phục vụ:  2.57\n"
     ]
    }
   ],
   "source": [
    "#Trung bình trong một bữa ăn nhà hàng phục vụ mấy khách?\n",
    "print('Số lượng khách trung bình nhà hàng phục vụ: ', round(df['size'].mean(), 2))\n"
   ]
  },
  {
   "cell_type": "code",
   "execution_count": 21,
   "id": "002cc8ef",
   "metadata": {},
   "outputs": [
    {
     "data": {
      "text/plain": [
       "total_bill    0\n",
       "tip           0\n",
       "sex           0\n",
       "smoker        0\n",
       "day           0\n",
       "time          0\n",
       "size          0\n",
       "dtype: int64"
      ]
     },
     "execution_count": 21,
     "metadata": {},
     "output_type": "execute_result"
    }
   ],
   "source": [
    "# Yếu tố ảnh hưởng đến tiền tip\n",
    "# 1.Tỷ lệ được tiền tip của nhà hàng là bao nhiêu\n",
    "df[df['tip'] == 0].count()"
   ]
  },
  {
   "cell_type": "code",
   "execution_count": 22,
   "id": "c6186dc8",
   "metadata": {},
   "outputs": [
    {
     "name": "stdout",
     "output_type": "stream",
     "text": [
      "Ty le tip: tip    100.0\n",
      "dtype: float64 \n"
     ]
    }
   ],
   "source": [
    "n = df['tip'].count()\n",
    "tyle_tip = ((n - df.loc[df['tip']==0, ['tip']].count()) / n) * 100\n",
    "\n",
    "print(f'Ty le tip: {tyle_tip} ')"
   ]
  },
  {
   "cell_type": "code",
   "execution_count": 23,
   "id": "72b61aa1",
   "metadata": {},
   "outputs": [
    {
     "data": {
      "text/plain": [
       "0.152"
      ]
     },
     "execution_count": 23,
     "metadata": {},
     "output_type": "execute_result"
    }
   ],
   "source": [
    "# Tỷ lệ tiền tip trên tổng hóa đơn là bao nhiêu?\n",
    "round(df['tip'].sum() / df['total_bill'].sum(), 3)"
   ]
  },
  {
   "cell_type": "code",
   "execution_count": 24,
   "id": "6afe7cb8",
   "metadata": {},
   "outputs": [
    {
     "name": "stdout",
     "output_type": "stream",
     "text": [
      "Tổng tiền tip theo giới tính:\n",
      "sex\n",
      "Female    246.51\n",
      "Male      485.07\n",
      "Name: tip, dtype: float64\n",
      "\n",
      "Tổng số lần tip (số lượng bữa ăn) theo giới tính:\n",
      "sex\n",
      "Female     87\n",
      "Male      157\n",
      "Name: tip, dtype: int64\n"
     ]
    }
   ],
   "source": [
    "#Giữa nam và nữ ai tip nhiều tiền hơn, ai tip thường xuyên hơn?\n",
    "tip_by_gender = df.groupby('sex')['tip'].sum()\n",
    "tip_count_by_gender = df.groupby('sex')['tip'].count()\n",
    "\n",
    "print(\"Tổng tiền tip theo giới tính:\")\n",
    "print(tip_by_gender)\n",
    "\n",
    "print(\"\\nTổng số lần tip (số lượng bữa ăn) theo giới tính:\")\n",
    "print(tip_count_by_gender)\n"
   ]
  },
  {
   "cell_type": "code",
   "execution_count": 25,
   "id": "d16a32ed",
   "metadata": {},
   "outputs": [
    {
     "name": "stdout",
     "output_type": "stream",
     "text": [
      "Tổng tiền tip theo việc hút thuốc (smoker):\n",
      "smoker\n",
      "No     451.77\n",
      "Yes    279.81\n",
      "Name: tip, dtype: float64\n",
      "\n",
      "Tổng số lần tip (số lượng bữa ăn) theo việc hút thuốc (smoker):\n",
      "smoker\n",
      "No     151\n",
      "Yes     93\n",
      "Name: tip, dtype: int64\n"
     ]
    }
   ],
   "source": [
    "#Giữa người hút thuốc và người không hút thuốc ai tip nhiều tiền hơn, ai tip thường xuyên hơn?\n",
    "tip_by_smoker = df.groupby('smoker')['tip'].sum()\n",
    "tip_count_by_smoker = df.groupby('smoker')['tip'].count()\n",
    "\n",
    "print(\"Tổng tiền tip theo việc hút thuốc (smoker):\")\n",
    "print(tip_by_smoker)\n",
    "\n",
    "print(\"\\nTổng số lần tip (số lượng bữa ăn) theo việc hút thuốc (smoker):\")\n",
    "print(tip_count_by_smoker)\n"
   ]
  },
  {
   "cell_type": "code",
   "execution_count": 26,
   "id": "f5de2b5a",
   "metadata": {},
   "outputs": [
    {
     "name": "stdout",
     "output_type": "stream",
     "text": [
      "day\n",
      "Fri      51.96\n",
      "Sat     260.40\n",
      "Sun     247.39\n",
      "Thur    171.83\n",
      "Name: tip, dtype: float64\n"
     ]
    }
   ],
   "source": [
    "#Thống kê tổng số tiền tip nhận được theo ngày.\n",
    "tip_by_day = df.groupby('day')['tip'].sum()\n",
    "print(tip_by_day)\n"
   ]
  },
  {
   "cell_type": "code",
   "execution_count": 27,
   "id": "2823263f",
   "metadata": {},
   "outputs": [
    {
     "data": {
      "image/png": "[encoded data removed]",
      "text/plain": [
       "<Figure size 640x480 with 1 Axes>"
      ]
     },
     "metadata": {},
     "output_type": "display_data"
    }
   ],
   "source": [
    "#Vẽ đồ thị thể hiện tổng tiền tip theo ngày\n",
    "import matplotlib.pyplot as plt\n",
    "\n",
    "tip_by_day = df.groupby('day')['tip'].sum()\n",
    "tip_by_day.plot(kind='bar', title='Tổng tiền tip theo ngày')\n",
    "plt.xlabel('Ngày')\n",
    "plt.ylabel('Tổng tiền tip')\n",
    "plt.show()\n"
   ]
  },
  {
   "cell_type": "code",
   "execution_count": 28,
   "id": "e84a644a",
   "metadata": {},
   "outputs": [
    {
     "data": {
      "image/png": "[encoded data removed]",
      "text/plain": [
       "<Figure size 640x480 with 1 Axes>"
      ]
     },
     "metadata": {},
     "output_type": "display_data"
    }
   ],
   "source": [
    "# Vẽ đồ thị thể hiện tổng tiền tip theo bữa ăn (time)\n",
    "tip_by_time = df.groupby('time')['tip'].sum()\n",
    "tip_by_time.plot(kind='bar', title='Tổng tiền tip theo bữa ăn')\n",
    "plt.xlabel('Bữa ăn')\n",
    "plt.ylabel('Tổng tiền tip')\n",
    "plt.show()\n"
   ]
  },
  {
   "cell_type": "code",
   "execution_count": 29,
   "id": "6ac64518",
   "metadata": {},
   "outputs": [
    {
     "data": {
      "image/png": "[encoded data removed]",
      "text/plain": [
       "<Figure size 640x480 with 1 Axes>"
      ]
     },
     "metadata": {},
     "output_type": "display_data"
    }
   ],
   "source": [
    "#Vẽ đồ thị histogram của tổng hoá đơn\n",
    "plt.hist(df['total_bill'], bins=20, edgecolor='k')\n",
    "plt.title('Histogram của tổng hoá đơn')\n",
    "plt.xlabel('Tổng hoá đơn')\n",
    "plt.ylabel('Số lượng')\n",
    "plt.show()"
   ]
  },
  {
   "cell_type": "code",
   "execution_count": 30,
   "id": "d000db6d",
   "metadata": {},
   "outputs": [
    {
     "data": {
      "image/png": "[encoded data removed]",
      "text/plain": [
       "<Figure size 640x480 with 1 Axes>"
      ]
     },
     "metadata": {},
     "output_type": "display_data"
    }
   ],
   "source": [
    "# Vẽ đồ thị boxplot của tổng hoá đơn\n",
    "import seaborn as sns\n",
    "\n",
    "sns.boxplot(x='total_bill', data=df)\n",
    "plt.title('Boxplot của tổng hoá đơn')\n",
    "plt.xlabel('Tổng hoá đơn')\n",
    "plt.show()\n"
   ]
  },
  {
   "cell_type": "code",
   "execution_count": 31,
   "id": "f20fe950",
   "metadata": {},
   "outputs": [
    {
     "data": {
      "image/png": "[encoded data removed]",
      "text/plain": [
       "<Figure size 640x480 with 1 Axes>"
      ]
     },
     "metadata": {},
     "output_type": "display_data"
    }
   ],
   "source": [
    "# Vẽ đồ thị để kiểm tra sự liên quan giữa tổng hoá đơn và tiền tip.\n",
    "plt.scatter(df['total_bill'], df['tip'])\n",
    "plt.title('Sự liên quan giữa tổng hoá đơn và tiền tip')\n",
    "plt.xlabel('Tổng hoá đơn')\n",
    "plt.ylabel('Tiền tip')\n",
    "plt.show()"
   ]
  },
  {
   "cell_type": "code",
   "execution_count": 32,
   "id": "e894988d",
   "metadata": {},
   "outputs": [
    {
     "data": {
      "image/png": "[encoded data removed]",
      "text/plain": [
       "<Figure size 1000x600 with 1 Axes>"
      ]
     },
     "metadata": {},
     "output_type": "display_data"
    }
   ],
   "source": [
    "#So sánh số tiền mà khách hàng đã chi giữa các ngày trong tuần\n",
    "import seaborn as sns\n",
    "\n",
    "plt.figure(figsize=(10, 6))\n",
    "sns.boxplot(x='day', y='total_bill', data=df)\n",
    "plt.title('So sánh tổng hoá đơn giữa các ngày trong tuần')\n",
    "plt.xlabel('Ngày')\n",
    "plt.ylabel('Tổng hoá đơn')\n",
    "plt.show()\n"
   ]
  },
  {
   "cell_type": "code",
   "execution_count": null,
   "id": "182ecbc0",
   "metadata": {},
   "outputs": [],
   "source": [
    "1.Tổng hoá đơn: Có sự tương quan dương giữa tổng hoá đơn và tiền tip. Khách hàng thường trả tiền tip cao \n",
    "hơn khi hóa đơn lớn hơn.\n",
    "\n",
    "2.Bữa ăn: Dường như khách hàng thường trả tiền tip cao hơn trong bữa tối (Dinner) so với bữa trưa (Lunch).\n",
    "\n",
    "3.Ngày trong tuần: Trong số các ngày trong tuần, thứ bảy (Saturday) và chủ nhật (Sunday) có sự tăng của tiền \n",
    "tip so với các ngày khác.\n",
    "\n",
    "4.Số lượng người: Số lượng người trong bữa ăn cũng ảnh hưởng đến tiền tip. Bữa ăn cho nhiều người thường có \n",
    "tiền tip lớn hơn.\n",
    "\n",
    "5.Giới tính: Tính toán tiền tip dựa trên giới tính không phản ánh rõ ràng ảnh hưởng đến tiền tip.\n",
    "\n",
    "6.Hút thuốc: Có sự tương quan dương nhỏ giữa việc hút thuốc và tiền tip, nhưng sự ảnh hưởng này không lớn. "
   ]
  }
 ],
 "metadata": {
  "kernelspec": {
   "display_name": "Python 3 (ipykernel)",
   "language": "python",
   "name": "python3"
  },
  "language_info": {
   "codemirror_mode": {
    "name": "ipython",
    "version": 3
   },
   "file_extension": ".py",
   "mimetype": "text/x-python",
   "name": "python",
   "nbconvert_exporter": "python",
   "pygments_lexer": "ipython3",
   "version": "3.10.9"
  }
 },
 "nbformat": 4,
 "nbformat_minor": 5
}
