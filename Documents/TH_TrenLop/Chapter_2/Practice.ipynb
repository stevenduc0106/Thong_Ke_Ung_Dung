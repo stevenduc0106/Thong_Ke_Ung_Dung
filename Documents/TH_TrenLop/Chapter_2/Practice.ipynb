{
 "cells": [
  {
   "cell_type": "code",
   "execution_count": 1,
   "id": "a3f601c1",
   "metadata": {},
   "outputs": [
    {
     "name": "stdout",
     "output_type": "stream",
     "text": [
      "Nhap Vao Du Lieu: 10\n",
      "10\n"
     ]
    }
   ],
   "source": [
    "#Chapter 2 \n",
    "\n",
    "#input & output\n",
    "a = input(\"Nhap Vao Du Lieu: \")\n",
    "print(a)"
   ]
  },
  {
   "cell_type": "code",
   "execution_count": 2,
   "id": "dc877095",
   "metadata": {},
   "outputs": [
    {
     "name": "stdout",
     "output_type": "stream",
     "text": [
      "Nhap Vao Du Lieu: 10\n",
      "Can Bac Hai Cua A La: 10 la 3.1622776601683795\n"
     ]
    }
   ],
   "source": [
    "import math\n",
    "a = int ( input(\"Nhap Vao Du Lieu: \") )\n",
    "print(\"Can Bac Hai Cua A La:\",a,\"la\",math.sqrt(a))"
   ]
  },
  {
   "cell_type": "code",
   "execution_count": 6,
   "id": "824a3f26",
   "metadata": {},
   "outputs": [
    {
     "name": "stdout",
     "output_type": "stream",
     "text": [
      "Nhap a: = 3\n",
      "Nhap b: = 4\n",
      "3 < 4\n"
     ]
    }
   ],
   "source": [
    "a = int ( input(\"Nhap a: = \") )\n",
    "b = int ( input(\"Nhap b: = \") )\n",
    "\n",
    "if( a > b ):\n",
    "    print(a,\">\",b)\n",
    "elif( a < b ):\n",
    "    print(a,\"<\",b)\n",
    "else:\n",
    "    print(a,\"=\",b)"
   ]
  },
  {
   "cell_type": "code",
   "execution_count": 7,
   "id": "c84a4dd4",
   "metadata": {},
   "outputs": [
    {
     "data": {
      "text/plain": [
       "-4"
      ]
     },
     "execution_count": 7,
     "metadata": {},
     "output_type": "execute_result"
    }
   ],
   "source": [
    "4 - 4*2*1\n"
   ]
  },
  {
   "cell_type": "code",
   "execution_count": 8,
   "id": "c2638de1",
   "metadata": {},
   "outputs": [
    {
     "name": "stdout",
     "output_type": "stream",
     "text": [
      "-3\n"
     ]
    }
   ],
   "source": [
    "delta = 1*1 - 4*1*1\n",
    "print(delta)"
   ]
  },
  {
   "cell_type": "code",
   "execution_count": 9,
   "id": "58121f8c",
   "metadata": {},
   "outputs": [
    {
     "data": {
      "text/plain": [
       "-2.0"
      ]
     },
     "execution_count": 9,
     "metadata": {},
     "output_type": "execute_result"
    }
   ],
   "source": [
    "-4/2\n"
   ]
  },
  {
   "cell_type": "code",
   "execution_count": 10,
   "id": "4608778b",
   "metadata": {},
   "outputs": [
    {
     "name": "stdout",
     "output_type": "stream",
     "text": [
      "\n"
     ]
    }
   ],
   "source": [
    "print()\n",
    "for i in range(3,9,-1):\n",
    "    print(i, end = \" \")"
   ]
  },
  {
   "cell_type": "code",
   "execution_count": null,
   "id": "66950198",
   "metadata": {},
   "outputs": [],
   "source": []
  }
 ],
 "metadata": {
  "kernelspec": {
   "display_name": "Python 3 (ipykernel)",
   "language": "python",
   "name": "python3"
  },
  "language_info": {
   "codemirror_mode": {
    "name": "ipython",
    "version": 3
   },
   "file_extension": ".py",
   "mimetype": "text/x-python",
   "name": "python",
   "nbconvert_exporter": "python",
   "pygments_lexer": "ipython3",
   "version": "3.10.9"
  }
 },
 "nbformat": 4,
 "nbformat_minor": 5
}
