{
 "cells": [
  {
   "cell_type": "code",
   "execution_count": 20,
   "id": "e68a2e66",
   "metadata": {},
   "outputs": [
    {
     "name": "stdout",
     "output_type": "stream",
     "text": [
      "Nhap a: = 0\n",
      "Nhap b: = 2\n",
      "Nhap b: = 7\n",
      "Nghiem =  -3.5\n"
     ]
    }
   ],
   "source": [
    "#Giai Phuong Trinh Bac Hai\n",
    "\n",
    "a = float( input(\"Nhap a: = \") )\n",
    "b = float( input(\"Nhap b: = \") )\n",
    "c = float( input(\"Nhap b: = \") )\n",
    "\n",
    "if ( a == 0 ):\n",
    "    if( b == 0):\n",
    "        if(c == 0):\n",
    "            print(\"Phuong Trinh Co Vo So Nghiem\")\n",
    "        else:\n",
    "            print(\"Phuong Trinh Vo Nghiem\")\n",
    "    else: \n",
    "        print(\"Nghiem = \",-c/b)\n",
    "else:\n",
    "    delta =   b * b - 4 * a * c \n",
    "    if ( delta == 0 ):\n",
    "        print(\"Phuong Trinh Co 1 Nghiem\")\n",
    "    elif ( delta > 0 ): \n",
    "        print(\"Phuong Trinh Co 2 Nghiem Phan Biet\")\n",
    "    else:\n",
    "        print(\"Phuong Trinh Vo Nghiem\")"
   ]
  },
  {
   "cell_type": "code",
   "execution_count": 54,
   "id": "906477d0",
   "metadata": {},
   "outputs": [
    {
     "name": "stdout",
     "output_type": "stream",
     "text": [
      "4\n",
      "6\n",
      "8\n",
      "4 6 8 \n",
      "1 2 3 4 5 \n",
      "3 4 \n",
      "3 5 7 \n"
     ]
    }
   ],
   "source": [
    "#FOR\n",
    "for i in [4,6,8]:\n",
    "    print(i)\n",
    "#1\n",
    "for i in [4,6,8]:\n",
    "    print(i,end = \" \") #De in hang ngang\n",
    "    \n",
    "print()\n",
    "#2\n",
    "for i in range(5):\n",
    "    print(i+1, end = \" \")\n",
    "    \n",
    "print()\n",
    "#3\n",
    "for i in range(3,5):\n",
    "    print(i, end = \" \")\n",
    "    \n",
    "print()\n",
    "#4\n",
    "for i in range(3,9,2): # Buoc Nhay 2\n",
    "    print(i, end = \" \")\n",
    "    \n",
    "print()\n",
    "#5\n",
    "for i in range(3,9,-1):\n",
    "    print(i, end = \" \")"
   ]
  },
  {
   "cell_type": "code",
   "execution_count": 40,
   "id": "b0adeb75",
   "metadata": {},
   "outputs": [
    {
     "name": "stdout",
     "output_type": "stream",
     "text": [
      "Nhap n: = 5\n",
      "15\n"
     ]
    }
   ],
   "source": [
    "#Nhap N Tinh Tong 1 + 2 +.. + n\n",
    "\n",
    "n = int ( input(\"Nhap n: = \") )\n",
    "T = 0;\n",
    "for i in range(1,n+1):\n",
    "    \n",
    "print(T)"
   ]
  },
  {
   "cell_type": "code",
   "execution_count": 55,
   "id": "a3d272a0",
   "metadata": {},
   "outputs": [
    {
     "name": "stdout",
     "output_type": "stream",
     "text": [
      "Nhap n: = 8\n",
      "N khong la So Nguyen To\n"
     ]
    }
   ],
   "source": [
    "# Kiem Tra N Co Phai La So Nguyen To Hay Khong\n",
    "import math\n",
    "n = int ( input(\"Nhap n: = \") )\n",
    "t = 0;\n",
    "\n",
    "for i in range(2,int (math.sqrt(n))):\n",
    "    if( n % i == 0 ):\n",
    "        t += 1  \n",
    "if( t == 2 ):\n",
    "    print(\"N la So Nguyen To\")\n",
    "else:\n",
    "    print(\"N khong la So Nguyen To\")"
   ]
  },
  {
   "cell_type": "code",
   "execution_count": 52,
   "id": "fcf79d35",
   "metadata": {},
   "outputs": [],
   "source": [
    "# Mo Ta Du Lieu & Truc Quan Hoa Du Lieu Cho Buoi Sau (21/08/2023)"
   ]
  }
 ],
 "metadata": {
  "kernelspec": {
   "display_name": "Python 3 (ipykernel)",
   "language": "python",
   "name": "python3"
  },
  "language_info": {
   "codemirror_mode": {
    "name": "ipython",
    "version": 3
   },
   "file_extension": ".py",
   "mimetype": "text/x-python",
   "name": "python",
   "nbconvert_exporter": "python",
   "pygments_lexer": "ipython3",
   "version": "3.10.9"
  }
 },
 "nbformat": 4,
 "nbformat_minor": 5
}
