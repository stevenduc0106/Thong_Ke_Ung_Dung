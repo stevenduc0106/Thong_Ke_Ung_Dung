{
 "cells": [
  {
   "cell_type": "code",
   "execution_count": 25,
   "id": "d9967292",
   "metadata": {},
   "outputs": [
    {
     "name": "stdout",
     "output_type": "stream",
     "text": [
      "Kỳ vọng (biến rời rạc): 3.2\n",
      "Kỳ vọng (biến liên tục): 0.0\n"
     ]
    }
   ],
   "source": [
    "# Bài 1. Viết hàm tính kỳ vọng theo định nghĩa như sau:\n",
    "# ➢ Kỳ vọng (expected value): là giá trị trung bình sau khi lặp lại một thí nghiệm vô số\n",
    "# lần\n",
    "# ➢ Ký hiệu: E(X) hoặc \n",
    "# ➢ Công thức: \n",
    "# Công thức tính kỳ vọng cho biến ngẫu nhiên rời rạc:\n",
    "# E(X) = Σ(x * f(x))\n",
    "# Công thức tính kỳ vọng cho biến ngẫu nhiên liên tục:\n",
    "# E(X) = ∫(x * f(x)) dx\n",
    "\n",
    "from scipy.integrate import quad\n",
    "\n",
    "def tinhKyVongRoiRac(x, f):\n",
    "    kyVong = sum(xi * fi for xi, fi in zip(x, f))\n",
    "    return kyVong\n",
    "\n",
    "def tinhKyVongLienTuc(f, a, b):\n",
    "    kyVong, _ = quad(lambda x: x * f(x), a, b)\n",
    "    return kyVong\n",
    "\n",
    "# Test\n",
    "xRoiRac = [1, 2, 3, 4, 5]\n",
    "fRoiRac = [0.1, 0.2, 0.3, 0.2, 0.2]\n",
    "kyVongRoiRac = tinhKyVongRoiRac(xRoiRac, fRoiRac)\n",
    "print(\"Kỳ vọng (biến rời rạc):\", kyVongRoiRac)\n",
    "\n",
    "# Test\n",
    "from scipy.stats import norm\n",
    "aLienTuc = -5\n",
    "bLienTuc = 5\n",
    "fLienTuc = norm.pdf\n",
    "kyVongLienTuc = tinhKyVongLienTuc(fLienTuc, aLienTuc, bLienTuc)\n",
    "print(\"Kỳ vọng (biến liên tục):\", kyVongLienTuc)\n"
   ]
  },
  {
   "cell_type": "code",
   "execution_count": 27,
   "id": "fee2bcc3",
   "metadata": {},
   "outputs": [
    {
     "name": "stdout",
     "output_type": "stream",
     "text": [
      "PhuongSaiRoiRac (biến rời rạc): 1.56\n",
      "PhuongSaiLienTuc (biến liên tục): 0.16131381634609557\n"
     ]
    }
   ],
   "source": [
    "# Bài 2:\n",
    "# Viết hàm tính phương sai theo định nghĩa như sau:\n",
    "# ➢ Phương sai (variance): là trung bình của tổng bình phương độ lệch của tất cả giá trị của biến ngẫu nhiên so với giá trị kỳ vọng\n",
    "# ➢ Ký hiệu: 2 ,var(x), V(x)\n",
    "# ➢ Công thức:\n",
    "# Trường hợp biến ngẫu nhiên rời rạc\n",
    "# Trường hợp biến ngẫu nhiên liên tục\n",
    "import math\n",
    "\n",
    "# Hàm tính phương sai cho biến ngẫu nhiên rời rạc\n",
    "def tinhPhuongSaiRoiRac(x, f):\n",
    "    kyVong = sum(xi * fi for xi, fi in zip(x, f))  # Tính kỳ vọng\n",
    "    phuongSai = sum((xi - kyVong) ** 2 * fi for xi, fi in zip(x, f))  # Tính phương sai\n",
    "    return phuongSai\n",
    "\n",
    "# Hàm tính phương sai cho biến ngẫu nhiên liên tục\n",
    "def tinhPhuongSaiLienTuc(f, a, b):\n",
    "    kyVong = 0.0\n",
    "    phuongSai = 0.0\n",
    "    \n",
    "    # Tính kỳ vọng và phương sai\n",
    "    for x in range(a, b + 1):\n",
    "        kyVong += x * f(x)\n",
    "        phuongSai += x ** 2 * f(x)\n",
    "    \n",
    "    kyVong = kyVong / (b - a + 1)\n",
    "    phuongSai = phuongSai / (b - a + 1) - kyVong ** 2\n",
    "    \n",
    "    return phuongSai\n",
    "\n",
    "# Test\n",
    "xRoiRac = [1, 2, 3, 4, 5]\n",
    "fRoiRac = [0.1, 0.2, 0.3, 0.2, 0.2]\n",
    "phuongSaiRoiRac = tinhPhuongSaiRoiRac(xRoiRac, fRoiRac)\n",
    "print(\"PhuongSaiRoiRac (biến rời rạc):\", phuongSaiRoiRac)\n",
    "\n",
    "# Test\n",
    "from scipy.stats import norm \n",
    "aLienTuc = -1\n",
    "bLienTuc = 1\n",
    "fLienTuc = norm.pdf\n",
    "phuongSaiLienTuc = tinhPhuongSaiLienTuc(fLienTuc, aLienTuc, bLienTuc)\n",
    "print(\"PhuongSaiLienTuc (biến liên tục):\", phuongSaiLienTuc)"
   ]
  },
  {
   "cell_type": "code",
   "execution_count": 8,
   "id": "de4b06e2",
   "metadata": {},
   "outputs": [
    {
     "name": "stdout",
     "output_type": "stream",
     "text": [
      "Độ lệch chuẩn: 15.8114\n"
     ]
    }
   ],
   "source": [
    "# Bài 3:\n",
    "# Viết hàm tính độ lệch chuẩn theo định nghĩa như sau:\n",
    "# ➢ Độ lệch chuẩn (standard variation): là căn bậc 2 của giá trị phương sai Ký hiệu: σ hoặc SD(X)\n",
    "import math\n",
    "\n",
    "def tinhDoLechChuan(data):\n",
    "    n = len(data)\n",
    "    \n",
    "    if n <= 1:\n",
    "        return 0.0  # Không có độ lệch chuẩn nếu chỉ có một phần tử hoặc không có dữ liệu\n",
    "    \n",
    "    trungBinh = sum(data) / n  # Tính giá trị trung bình\n",
    "    \n",
    "    # Tính tổng bình phương sai số\n",
    "    tongBinhPhuongSaiSo = sum((x - trungBinh) ** 2 for x in data)\n",
    "    \n",
    "    # Tính độ lệch chuẩn\n",
    "    doLechChuan = math.sqrt(tongBinhPhuongSaiSo / (n - 1))\n",
    "    \n",
    "    return doLechChuan\n",
    "\n",
    "# Test\n",
    "data = [10, 20, 30, 40, 50]\n",
    "doLechChuan = tinhDoLechChuan(data)\n",
    "print(\"Độ lệch chuẩn: {:.4f}\".format(doLechChuan))\n"
   ]
  },
  {
   "cell_type": "code",
   "execution_count": 35,
   "id": "4413269e",
   "metadata": {},
   "outputs": [],
   "source": [
    "# Bài 4:\n",
    "# a. Một nhóm học sinh có 10 em, trong đó có 3 em học loại giỏi, 4 loại khá, còn lại là trung bình. \n",
    "# Từ nhóm đó chọn ngẫu nhiên ra 3 học sinh. Gọi X là số học sinh giỏi trong số học sinh chọn ra\n",
    "# - Lập bảng phân phối xác suất của X, đưa dữ liệu bảng này vào file data.txt\n",
    "# Áp dụng các hàm đã viết ở 1,2,3 tính Kỳ vọng, Phương sai, Độ lệch chuẩn cho dữ liệu biến ngẫy nhiên rời rạc \n",
    "# được cung cấp ở file data.txt\n",
    "\n",
    "# d. Sử dụng thư viện có sẵn tính Kỳ vọng, Phương sai, Độ lệch chuẩn cho dữ liệu ở câu b\n",
    "\n",
    "# A)\n",
    "from math import comb\n",
    "\n",
    "# Lập bảng phân phối xác suất của X\n",
    "def tinhPhanPhoiXacSuat():\n",
    "    n = 10  # Tổng số học sinh trong nhóm\n",
    "    kGioi = 3  # Số học sinh giỏi trong nhóm\n",
    "    kKha = 4  # Số học sinh khá trong nhóm\n",
    "    kTrungBinh = 3  # Số học sinh trung bình trong nhóm\n",
    "    soLuongChon = 3  # Số lượng học sinh được chọn ra\n",
    "\n",
    "    # Lập bảng phân phối xác suất của X\n",
    "    phanPhoiXacSuat = {}\n",
    "    for x in range(4):  # X có giá trị từ 0 đến 3\n",
    "        if x <= kGioi:\n",
    "            pX = (comb(kGioi, x) * comb(kKha, soLuongChon - x)) / comb(n, soLuongChon)\n",
    "        else:\n",
    "            pX = 0\n",
    "        phanPhoiXacSuat[x] = pX\n",
    "\n",
    "    return phanPhoiXacSuat\n",
    "\n",
    "# Lưu bảng phân phối xác suất vào file data.txt\n",
    "def luuPhanPhoiXacSuatVaoFile():\n",
    "    phanPhoiXacSuat = tinhPhanPhoiXacSuat()\n",
    "    with open('data.txt', 'w') as file:\n",
    "        file.write('X\\tP(X)\\n')\n",
    "        for x, pX in phanPhoiXacSuat.items():\n",
    "            file.write(f'{x}\\t{pX}\\n')\n",
    "\n",
    "luuPhanPhoiXacSuatVaoFile()"
   ]
  },
  {
   "cell_type": "code",
   "execution_count": 36,
   "id": "dfe6d73b",
   "metadata": {},
   "outputs": [
    {
     "name": "stdout",
     "output_type": "stream",
     "text": [
      "Kỳ vọng: 0.375\n",
      "Phương sai: 0.38476562500000006\n",
      "Độ lệch chuẩn: 0.6202947887899752\n"
     ]
    }
   ],
   "source": [
    "# Đọc dữ liệu từ file data.txt và chuyển sang dạng dict\n",
    "def docDuLieuTuFile(file_name):\n",
    "    data = {}\n",
    "    with open(file_name, 'r') as file:\n",
    "        next(file)  # Bỏ qua dòng tiêu đề\n",
    "        for line in file:\n",
    "            x, p_x = line.strip().split('\\t')\n",
    "            data[int(x)] = float(p_x)\n",
    "    return data\n",
    "\n",
    "# Tính kỳ vọng cho biến ngẫu nhiên rời rạc\n",
    "def tinhKyVongRoiRac(data):\n",
    "    kyVong = sum(x * p_x for x, p_x in data.items())\n",
    "    return kyVong\n",
    "\n",
    "# Tính phương sai cho biến ngẫu nhiên rời rạc\n",
    "def tinhPhuongSaiRoiRac(data):\n",
    "    kyVong = tinhKyVongRoiRac(data)\n",
    "    phuongSai = sum((x - kyVong) ** 2 * p_x for x, p_x in data.items())\n",
    "    return phuongSai\n",
    "\n",
    "# Tính độ lệch chuẩn cho biến ngẫu nhiên rời rạc\n",
    "def tinhDoLechChuanRoiRac(data):\n",
    "    phuongSai = tinhPhuongSaiRoiRac(data)\n",
    "    doLechChuan = math.sqrt(phuongSai)\n",
    "    return doLechChuan\n",
    "\n",
    "# Đọc dữ liệu từ file data.txt\n",
    "data = docDuLieuTuFile('data.txt')\n",
    "\n",
    "# Tính và in kết quả\n",
    "kyVong = tinhKyVongRoiRac(data)\n",
    "phuongSai = tinhPhuongSaiRoiRac(data)\n",
    "doLechChuan = tinhDoLechChuanRoiRac(data)\n",
    "\n",
    "print(\"Kỳ vọng:\", kyVong)\n",
    "print(\"Phương sai:\", phuongSai)\n",
    "print(\"Độ lệch chuẩn:\", doLechChuan)\n"
   ]
  },
  {
   "cell_type": "code",
   "execution_count": 37,
   "id": "f849a089",
   "metadata": {},
   "outputs": [
    {
     "name": "stdout",
     "output_type": "stream",
     "text": [
      "Kỳ vọng: 4499.999999999999\n",
      "Phương sai: 9072067499.999996\n",
      "Độ lệch chuẩn: 95247.40153935958\n"
     ]
    }
   ],
   "source": [
    "# B) Áp dụng các hàm đã viết ở 1,2,3 tính Kỳ vọng, Phương sai, Độ lệch chuẩn cho dữ liệu biến ngẫy nhiên liên \n",
    "# tục như mô tả sau:\n",
    "# Nhu cầu hàng năm về loại hàng hóa A là biến ngẫu nhiên liên tục X có hàm mật\n",
    "# độ xác suất như sau: (đơn vị: ngàn sản phẩm)\n",
    "from scipy.integrate import quad\n",
    "\n",
    "# Hàm mật độ xác suất f(x)\n",
    "def f(x):\n",
    "    if 0 <= x <= 30:\n",
    "        return 30 - x\n",
    "    else:\n",
    "        return 0\n",
    "\n",
    "# Tính kỳ vọng cho biến ngẫu nhiên liên tục\n",
    "def tinhKyVongLienTuc(f, a, b):\n",
    "    kyVong, _ = quad(lambda x: x * f(x), a, b)\n",
    "    return kyVong\n",
    "\n",
    "# Tính phương sai cho biến ngẫu nhiên liên tục\n",
    "def tinhPhuongSaiLienTuc(f, a, b):\n",
    "    kyVong = tinhKyVongLienTuc(f, a, b)\n",
    "    phuongSai, _ = quad(lambda x: (x - kyVong) ** 2 * f(x), a, b)\n",
    "    return phuongSai\n",
    "\n",
    "# Tính độ lệch chuẩn cho biến ngẫu nhiên liên tục\n",
    "def tinhDoLechChuanLienTuc(f, a, b):\n",
    "    phuongSai = tinhPhuongSaiLienTuc(f, a, b)\n",
    "    doLechChuan = phuongSai ** 0.5\n",
    "    return doLechChuan\n",
    "\n",
    "# Áp dụng các hàm để tính Kỳ vọng, Phương sai, và Độ lệch chuẩn cho biến ngẫu nhiên X\n",
    "a = 0  # Giới hạn dưới\n",
    "b = 30  # Giới hạn trên\n",
    "\n",
    "kyVong = tinhKyVongLienTuc(f, a, b)\n",
    "phuongSai = tinhPhuongSaiLienTuc(f, a, b)\n",
    "doLechChuan = tinhDoLechChuanLienTuc(f, a, b)\n",
    "\n",
    "print(\"Kỳ vọng:\", kyVong)\n",
    "print(\"Phương sai:\", phuongSai)\n",
    "print(\"Độ lệch chuẩn:\", doLechChuan)\n"
   ]
  },
  {
   "cell_type": "code",
   "execution_count": 38,
   "id": "6e5f30b8",
   "metadata": {},
   "outputs": [
    {
     "name": "stdout",
     "output_type": "stream",
     "text": [
      "Kỳ vọng: 0.375\n",
      "Phương sai: 0.38476562500000006\n",
      "Độ lệch chuẩn: 0.6202947887899752\n"
     ]
    }
   ],
   "source": [
    "# c. Sử dụng thư viện có sẵn tính Kỳ vọng, Phương sai, Độ lệch chuẩn cho dữ liệu ở câu a \n",
    "import numpy as np\n",
    "\n",
    "# Đọc dữ liệu từ tệp data.txt\n",
    "data = np.loadtxt('data.txt', skiprows=1)  # Skip dòng tiêu đề\n",
    "\n",
    "# Lấy giá trị của X và P(X) từ dữ liệu\n",
    "xValues = data[:, 0]\n",
    "pXValues = data[:, 1]\n",
    "\n",
    "# Tính kỳ vọng\n",
    "kyVong = np.sum(xValues * pXValues)\n",
    "\n",
    "# Tính phương sai\n",
    "phuongSai = np.sum((xValues - kyVong) ** 2 * pXValues)\n",
    "\n",
    "# Tính độ lệch chuẩn\n",
    "doLechChuan = np.sqrt(phuongSai)\n",
    "\n",
    "print(\"Kỳ vọng:\", kyVong)\n",
    "print(\"Phương sai:\", phuongSai)\n",
    "print(\"Độ lệch chuẩn:\", doLechChuan)\n"
   ]
  },
  {
   "cell_type": "code",
   "execution_count": 39,
   "id": "213264b4",
   "metadata": {},
   "outputs": [
    {
     "name": "stdout",
     "output_type": "stream",
     "text": [
      "Kỳ vọng: 4499.999999999999\n",
      "Phương sai: 9072067499.999996\n",
      "Độ lệch chuẩn: 95247.40153935958\n"
     ]
    }
   ],
   "source": [
    "# d. Sử dụng thư viện có sẵn tính Kỳ vọng, Phương sai, Độ lệch chuẩn cho dữ liệu ở câu b\n",
    "from scipy import integrate\n",
    "import numpy as np\n",
    "\n",
    "# Hàm mật độ xác suất f(x)\n",
    "def f(x):\n",
    "    if 0 <= x <= 30:\n",
    "        return 30 - x\n",
    "    else:\n",
    "        return 0\n",
    "\n",
    "# Tính kỳ vọng cho biến ngẫu nhiên liên tục\n",
    "kyVong, _ = integrate.quad(lambda x: x * f(x), 0, 30)\n",
    "\n",
    "# Tính phương sai cho biến ngẫu nhiên liên tục\n",
    "phuongSai, _ = integrate.quad(lambda x: (x - kyVong) ** 2 * f(x), 0, 30)\n",
    "\n",
    "# Tính độ lệch chuẩn cho biến ngẫu nhiên liên tục\n",
    "doLechChuan = np.sqrt(phuongSai)\n",
    "\n",
    "print(\"Kỳ vọng:\", kyVong)\n",
    "print(\"Phương sai:\", phuongSai)\n",
    "print(\"Độ lệch chuẩn:\", doLechChuan)\n"
   ]
  }
 ],
 "metadata": {
  "kernelspec": {
   "display_name": "Python 3 (ipykernel)",
   "language": "python",
   "name": "python3"
  },
  "language_info": {
   "codemirror_mode": {
    "name": "ipython",
    "version": 3
   },
   "file_extension": ".py",
   "mimetype": "text/x-python",
   "name": "python",
   "nbconvert_exporter": "python",
   "pygments_lexer": "ipython3",
   "version": "3.10.9"
  }
 },
 "nbformat": 4,
 "nbformat_minor": 5
}
